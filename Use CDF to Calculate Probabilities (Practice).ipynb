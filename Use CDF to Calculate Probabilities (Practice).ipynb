{
 "cells": [
  {
   "cell_type": "code",
   "execution_count": 2,
   "id": "5c3f25ed",
   "metadata": {},
   "outputs": [],
   "source": [
    "import pandas as pd\n",
    "import numpy as np\n",
    "import matplotlib.pyplot as plt\n",
    "import scipy.stats as stats\n",
    "import seaborn as sns"
   ]
  },
  {
   "cell_type": "code",
   "execution_count": 3,
   "id": "ce8632d8",
   "metadata": {},
   "outputs": [],
   "source": [
    "data = 'Data/weight-height - weight-height.csv'"
   ]
  },
  {
   "cell_type": "code",
   "execution_count": 4,
   "id": "1b60f556",
   "metadata": {},
   "outputs": [],
   "source": [
    "df = pd.read_csv(data)"
   ]
  },
  {
   "cell_type": "code",
   "execution_count": 5,
   "id": "d9674f18",
   "metadata": {},
   "outputs": [
    {
     "data": {
      "text/html": [
       "<div>\n",
       "<style scoped>\n",
       "    .dataframe tbody tr th:only-of-type {\n",
       "        vertical-align: middle;\n",
       "    }\n",
       "\n",
       "    .dataframe tbody tr th {\n",
       "        vertical-align: top;\n",
       "    }\n",
       "\n",
       "    .dataframe thead th {\n",
       "        text-align: right;\n",
       "    }\n",
       "</style>\n",
       "<table border=\"1\" class=\"dataframe\">\n",
       "  <thead>\n",
       "    <tr style=\"text-align: right;\">\n",
       "      <th></th>\n",
       "      <th>Gender</th>\n",
       "      <th>Height</th>\n",
       "      <th>Weight</th>\n",
       "    </tr>\n",
       "  </thead>\n",
       "  <tbody>\n",
       "    <tr>\n",
       "      <th>0</th>\n",
       "      <td>Male</td>\n",
       "      <td>73.847017</td>\n",
       "      <td>241.893563</td>\n",
       "    </tr>\n",
       "    <tr>\n",
       "      <th>1</th>\n",
       "      <td>Male</td>\n",
       "      <td>68.781904</td>\n",
       "      <td>162.310473</td>\n",
       "    </tr>\n",
       "    <tr>\n",
       "      <th>2</th>\n",
       "      <td>Male</td>\n",
       "      <td>74.110105</td>\n",
       "      <td>212.740856</td>\n",
       "    </tr>\n",
       "    <tr>\n",
       "      <th>3</th>\n",
       "      <td>Male</td>\n",
       "      <td>71.730978</td>\n",
       "      <td>220.042470</td>\n",
       "    </tr>\n",
       "    <tr>\n",
       "      <th>4</th>\n",
       "      <td>Male</td>\n",
       "      <td>69.881796</td>\n",
       "      <td>206.349801</td>\n",
       "    </tr>\n",
       "  </tbody>\n",
       "</table>\n",
       "</div>"
      ],
      "text/plain": [
       "  Gender     Height      Weight\n",
       "0   Male  73.847017  241.893563\n",
       "1   Male  68.781904  162.310473\n",
       "2   Male  74.110105  212.740856\n",
       "3   Male  71.730978  220.042470\n",
       "4   Male  69.881796  206.349801"
      ]
     },
     "execution_count": 5,
     "metadata": {},
     "output_type": "execute_result"
    }
   ],
   "source": [
    "df.head()"
   ]
  },
  {
   "cell_type": "code",
   "execution_count": 6,
   "id": "ad360633",
   "metadata": {},
   "outputs": [],
   "source": [
    "mean = np.mean(df['Height'])\n",
    "std = np.std(df['Height'])\n",
    "max = np.max(df['Height'])\n",
    "min = np.min(df['Height'])\n",
    "x_range = np.linspace(min,max,1000)"
   ]
  },
  {
   "cell_type": "code",
   "execution_count": 7,
   "id": "14e6e7a0",
   "metadata": {},
   "outputs": [],
   "source": [
    "cdf = stats.norm.cdf(x_range,loc=mean,scale=std)"
   ]
  },
  {
   "cell_type": "code",
   "execution_count": 8,
   "id": "878f1500",
   "metadata": {},
   "outputs": [],
   "source": [
    "low_end = 55\n",
    "high_end = 56"
   ]
  },
  {
   "cell_type": "code",
   "execution_count": 10,
   "id": "ba08c712",
   "metadata": {},
   "outputs": [
    {
     "data": {
      "text/plain": [
       "Text(0.5, 1.0, 'range')"
      ]
     },
     "execution_count": 10,
     "metadata": {},
     "output_type": "execute_result"
    },
    {
     "data": {
      "image/png": "[encoded data removed]",
      "text/plain": [
       "<Figure size 720x432 with 1 Axes>"
      ]
     },
     "metadata": {
      "needs_background": "light"
     },
     "output_type": "display_data"
    }
   ],
   "source": [
    "fig,ax = plt.subplots(figsize=(10,6))\n",
    "sns.histplot(x=df['Height'],stat='density',cumulative=True)\n",
    "ax.plot(x_range,cdf)\n",
    "ax.axvline(low_end,color='black')\n",
    "ax.axvline(high_end,color='black')\n",
    "ax.axvline(mean,color='black',ls='--')\n",
    "ax.axvspan(low_end,high_end,color='yellow',zorder=0)\n",
    "ax.set_title('range')"
   ]
  },
  {
   "cell_type": "code",
   "execution_count": 11,
   "id": "a0889755",
   "metadata": {},
   "outputs": [
    {
     "data": {
      "text/plain": [
       "0.001957124345724961"
      ]
     },
     "execution_count": 11,
     "metadata": {},
     "output_type": "execute_result"
    }
   ],
   "source": [
    "stats.norm.cdf(high_end,loc=mean,scale=std) - stats.norm.cdf(low_end,loc=mean,scale=std)"
   ]
  },
  {
   "cell_type": "code",
   "execution_count": 12,
   "id": "4d2abdfe",
   "metadata": {},
   "outputs": [
    {
     "data": {
      "text/plain": [
       "0.04895647315866601"
      ]
     },
     "execution_count": 12,
     "metadata": {},
     "output_type": "execute_result"
    }
   ],
   "source": [
    "stats.norm.cdf(60,loc=mean,scale=std)"
   ]
  },
  {
   "cell_type": "code",
   "execution_count": 14,
   "id": "7cb65da8",
   "metadata": {},
   "outputs": [
    {
     "data": {
      "text/plain": [
       "0.5"
      ]
     },
     "execution_count": 14,
     "metadata": {},
     "output_type": "execute_result"
    }
   ],
   "source": [
    "1 - stats.norm.cdf(mean,loc=mean,scale=std)"
   ]
  },
  {
   "cell_type": "code",
   "execution_count": null,
   "id": "4dc06a78",
   "metadata": {},
   "outputs": [],
   "source": []
  },
  {
   "cell_type": "code",
   "execution_count": null,
   "id": "143bf6eb",
   "metadata": {},
   "outputs": [],
   "source": []
  }
 ],
 "metadata": {
  "kernelspec": {
   "display_name": "Python 3 (ipykernel)",
   "language": "python",
   "name": "python3"
  },
  "language_info": {
   "codemirror_mode": {
    "name": "ipython",
    "version": 3
   },
   "file_extension": ".py",
   "mimetype": "text/x-python",
   "name": "python",
   "nbconvert_exporter": "python",
   "pygments_lexer": "ipython3",
   "version": "3.8.13"
  },
  "toc": {
   "base_numbering": 1,
   "nav_menu": {},
   "number_sections": false,
   "sideBar": true,
   "skip_h1_title": false,
   "title_cell": "Table of Contents",
   "title_sidebar": "Contents",
   "toc_cell": false,
   "toc_position": {},
   "toc_section_display": true,
   "toc_window_display": false
  }
 },
 "nbformat": 4,
 "nbformat_minor": 5
}
